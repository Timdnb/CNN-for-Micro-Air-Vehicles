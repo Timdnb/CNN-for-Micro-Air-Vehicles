{
 "cells": [
  {
   "cell_type": "markdown",
   "metadata": {},
   "source": [
    "## Notebook for dataset generation for AE4317 Autonomous Flight of Micro Air Vehicles"
   ]
  },
  {
   "cell_type": "markdown",
   "metadata": {},
   "source": [
    "Some prerequisites to run this notebook:\n",
    "- Depth Anything\n",
    "- Blabla store all real images in /images_real and all simulator images in /images_sim"
   ]
  },
  {
   "cell_type": "markdown",
   "metadata": {},
   "source": [
    "### Imports"
   ]
  },
  {
   "cell_type": "code",
   "execution_count": 1,
   "metadata": {},
   "outputs": [],
   "source": [
    "from data_functions import *"
   ]
  },
  {
   "cell_type": "markdown",
   "metadata": {},
   "source": [
    "### Convert images to depth maps\n",
    "We have chosen to use Depth Anything (see [here](https://github.com/LiheYoung/Depth-Anything)) to create depth maps of the images. The depth maps are then used to classify each image as either 'left', 'forward' or 'right', corresponding to the control action to take for the given image.\n",
    "\n",
    "Note: it takes quite some time to convert a large number of images to depth maps, consider using a GPU"
   ]
  },
  {
   "cell_type": "code",
   "execution_count": 3,
   "metadata": {},
   "outputs": [],
   "source": [
    "real_images_folder = 'real_images'\n",
    "sim_images_folder = 'sim_images'\n",
    "\n",
    "# generate depth maps\n",
    "# generate_depth_images()"
   ]
  },
  {
   "cell_type": "markdown",
   "metadata": {},
   "source": [
    "### Create labels\n",
    "Based on the generated depth maps the images are classified"
   ]
  },
  {
   "cell_type": "code",
   "execution_count": null,
   "metadata": {},
   "outputs": [],
   "source": [
    "all_images_folder = 'all_images'\n",
    "labeled_images = pd.DataFrame(columns=['filename', 'left', 'forward', 'right'])\n",
    "\n",
    "labeled_images = generate_labels(real_images_folder, all_images_folder, labeled_images, mirror=True)\n",
    "labeled_images = generate_labels(sim_images_folder, all_images_folder, labeled_images, mirror=True, make_realistic=True)\n",
    "\n",
    "labeled_images.to_csv('labeled_images.csv', index=False)"
   ]
  },
  {
   "cell_type": "markdown",
   "metadata": {},
   "source": [
    "Now we have all the ingredients we need to train our CNN, time to hop over to the next notebook!"
   ]
  }
 ],
 "metadata": {
  "kernelspec": {
   "display_name": "Python 3",
   "language": "python",
   "name": "python3"
  },
  "language_info": {
   "codemirror_mode": {
    "name": "ipython",
    "version": 3
   },
   "file_extension": ".py",
   "mimetype": "text/x-python",
   "name": "python",
   "nbconvert_exporter": "python",
   "pygments_lexer": "ipython3",
   "version": "3.9.7"
  }
 },
 "nbformat": 4,
 "nbformat_minor": 2
}
